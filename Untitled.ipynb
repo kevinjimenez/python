{
 "cells": [
  {
   "cell_type": "markdown",
   "id": "floral-wheel",
   "metadata": {},
   "source": [
    "# Red neuronal pon tf"
   ]
  },
  {
   "cell_type": "code",
   "execution_count": 1,
   "id": "sharing-handle",
   "metadata": {},
   "outputs": [],
   "source": [
    "import tensorflow as tf\n",
    "import numpy as np"
   ]
  },
  {
   "cell_type": "code",
   "execution_count": 3,
   "id": "empirical-beast",
   "metadata": {},
   "outputs": [
    {
     "name": "stdout",
     "output_type": "stream",
     "text": [
      "[[20.25090365  8.86645216  3.52521177 42.76243957]\n",
      " [14.66619596 23.86195257 12.86374978 38.39936275]\n",
      " [32.41881629 25.40000109 32.92394934  5.21457636]\n",
      " [19.15443111 46.01683265 13.41213644  7.40799255]]\n"
     ]
    }
   ],
   "source": [
    "aleatorio_a = np.random.uniform(0,50,(4,4))\n",
    "print(aleatorio_a)"
   ]
  },
  {
   "cell_type": "code",
   "execution_count": 6,
   "id": "victorian-proposal",
   "metadata": {},
   "outputs": [
    {
     "name": "stdout",
     "output_type": "stream",
     "text": [
      "[[35.93942827]\n",
      " [21.28988762]\n",
      " [10.96199171]\n",
      " [34.5255224 ]]\n"
     ]
    }
   ],
   "source": [
    "aleatorio_b = np.random.uniform(0,50,(4,1))\n",
    "print(aleatorio_b)"
   ]
  },
  {
   "cell_type": "code",
   "execution_count": 7,
   "id": "spanish-yemen",
   "metadata": {},
   "outputs": [],
   "source": [
    "@tf.function\n",
    "def suma(a,b):\n",
    "  resultado = a + b\n",
    "  return resultado\n",
    "\n",
    "@tf.function\n",
    "def multiplicacion(a,b):\n",
    "  resultado = a * b\n",
    "  return resultado"
   ]
  },
  {
   "cell_type": "code",
   "execution_count": 10,
   "id": "latin-conservative",
   "metadata": {},
   "outputs": [
    {
     "name": "stdout",
     "output_type": "stream",
     "text": [
      "tf.Tensor(30, shape=(), dtype=int32)\n",
      "30\n"
     ]
    }
   ],
   "source": [
    "suma_a_b = suma(tf.constant(10), tf.constant(20))\n",
    "print(suma_a_b)\n",
    "tf.print(suma_a_b)"
   ]
  },
  {
   "cell_type": "code",
   "execution_count": 12,
   "id": "hungry-complex",
   "metadata": {},
   "outputs": [
    {
     "name": "stdout",
     "output_type": "stream",
     "text": [
      "tf.Tensor(\n",
      "[[56.19033193 44.80588044 39.46464004 78.70186785]\n",
      " [35.95608358 45.15184018 34.15363739 59.68925037]\n",
      " [43.380808   36.36199281 43.88594105 16.17656808]\n",
      " [53.67995351 80.54235505 47.93765884 41.93351495]], shape=(4, 4), dtype=float64)\n",
      "[[56.190331926777141 44.805880436463617 39.464640041476038 78.701867849538388]\n",
      " [35.956083577644563 45.151840181577853 34.153637392722672 59.689250366443332]\n",
      " [43.380808000175023 36.361992805011255 43.88594105164502 16.176568079911107]\n",
      " [53.679953510526829 80.542355049900777 47.937658841677447 41.933514953373148]]\n"
     ]
    }
   ],
   "source": [
    "suma_a_b = suma((aleatorio_a), (aleatorio_b))\n",
    "print(suma_a_b)\n",
    "tf.print(suma_a_b)"
   ]
  },
  {
   "cell_type": "code",
   "execution_count": 21,
   "id": "blank-surge",
   "metadata": {},
   "outputs": [
    {
     "name": "stdout",
     "output_type": "stream",
     "text": [
      "tf.Tensor(200, shape=(), dtype=int32)\n",
      "200\n"
     ]
    }
   ],
   "source": [
    "multiplicacion_a_b = multiplicacion(tf.constant(10), tf.constant(20))\n",
    "print(multiplicacion_a_b)\n",
    "tf.print(multiplicacion_a_b)"
   ]
  },
  {
   "cell_type": "code",
   "execution_count": 22,
   "id": "pressed-dominican",
   "metadata": {},
   "outputs": [
    {
     "name": "stdout",
     "output_type": "stream",
     "text": [
      "tf.Tensor(\n",
      "[[ 727.8058993   318.65522152  126.69409544 1536.85762995]\n",
      " [ 312.24166378  508.01828842  273.86778707  817.51811747]\n",
      " [ 355.37479553  278.43460151  360.91205985   57.16214291]\n",
      " [ 661.31674031 1588.75518648  463.06101707  255.76481274]], shape=(4, 4), dtype=float64)\n",
      "[[727.80589930027406 318.65522151632462 126.69409544225732 1536.857629951711]\n",
      " [312.24166378174783 508.0182884178825 273.86778707198914 817.51811747235934]\n",
      " [355.37479552710289 278.434601508959 360.91205985226395 57.162142909683091]\n",
      " [661.31674030633553 1588.755186475619 463.06101706737928 255.76481273569769]]\n"
     ]
    }
   ],
   "source": [
    "multiplicacion_a_b = multiplicacion((aleatorio_a), (aleatorio_b))\n",
    "print(multiplicacion_a_b)\n",
    "tf.print(multiplicacion_a_b)"
   ]
  },
  {
   "cell_type": "markdown",
   "id": "extended-shakespeare",
   "metadata": {},
   "source": [
    "# ejemplo red neuronal"
   ]
  },
  {
   "cell_type": "code",
   "execution_count": 23,
   "id": "gross-worker",
   "metadata": {},
   "outputs": [],
   "source": [
    "caracteristicas = 10\n",
    "neuronas = 4"
   ]
  },
  {
   "cell_type": "code",
   "execution_count": 41,
   "id": "blind-arthur",
   "metadata": {},
   "outputs": [
    {
     "data": {
      "text/plain": [
       "<tf.Variable 'Variable:0' shape=(10, 4) dtype=float32, numpy=\n",
       "array([[-0.5951423 ,  0.09615402, -1.1203282 ,  1.4481956 ],\n",
       "       [ 0.4650617 ,  1.0933069 ,  0.73156077,  1.0904323 ],\n",
       "       [-0.48840728, -0.46253136, -1.1658224 , -0.00373292],\n",
       "       [-0.8259518 , -0.3463456 , -0.28828007, -0.802865  ],\n",
       "       [-0.64046454, -0.5070912 , -0.776799  ,  0.8348155 ],\n",
       "       [-1.4375911 , -1.2962563 , -0.64998376,  0.7446137 ],\n",
       "       [-0.7730436 , -2.2295609 ,  0.41183648,  0.60042953],\n",
       "       [-0.8451143 ,  1.534661  ,  0.4841911 , -0.9277923 ],\n",
       "       [-0.56530327,  0.6980979 ,  0.6869561 , -1.6992362 ],\n",
       "       [-0.03506297,  0.34868613, -0.09559308, -0.5641218 ]],\n",
       "      dtype=float32)>"
      ]
     },
     "execution_count": 41,
     "metadata": {},
     "output_type": "execute_result"
    }
   ],
   "source": [
    "w = tf.Variable(tf.random.normal([caracteristicas, neuronas]))\n",
    "w"
   ]
  },
  {
   "cell_type": "code",
   "execution_count": 26,
   "id": "durable-buffalo",
   "metadata": {},
   "outputs": [],
   "source": [
    "b = tf.Variable(tf.ones([neuronas]))"
   ]
  },
  {
   "cell_type": "code",
   "execution_count": 33,
   "id": "virtual-elder",
   "metadata": {},
   "outputs": [],
   "source": [
    "@tf.function\n",
    "def placeholderX(x):\n",
    "  return [x, caracteristicas]"
   ]
  },
  {
   "cell_type": "code",
   "execution_count": 35,
   "id": "disabled-surname",
   "metadata": {},
   "outputs": [],
   "source": [
    "valores_x = np.random.random([1, caracteristicas])"
   ]
  },
  {
   "cell_type": "code",
   "execution_count": 30,
   "id": "raising-daisy",
   "metadata": {},
   "outputs": [
    {
     "data": {
      "text/plain": [
       "array([[0.49128589, 0.40443116, 0.34737519, 0.30337196, 0.66100112,\n",
       "        0.98825431, 0.81641617, 0.93298489, 0.30069394, 0.42886535]])"
      ]
     },
     "execution_count": 30,
     "metadata": {},
     "output_type": "execute_result"
    }
   ],
   "source": [
    "valores_x"
   ]
  },
  {
   "cell_type": "code",
   "execution_count": 44,
   "id": "consolidated-duplicate",
   "metadata": {},
   "outputs": [
    {
     "data": {
      "text/plain": [
       "<tf.Tensor: id=134, shape=(1, 10), dtype=float64, numpy=\n",
       "array([[0.81042927, 0.03190484, 0.70764136, 0.2740838 , 0.69167399,\n",
       "        0.72324962, 0.26500556, 0.12518675, 0.31444334, 0.87249135]])>"
      ]
     },
     "execution_count": 44,
     "metadata": {},
     "output_type": "execute_result"
    }
   ],
   "source": [
    "astensor = tf.convert_to_tensor(valores_x)\n",
    "astensor"
   ]
  },
  {
   "cell_type": "code",
   "execution_count": 49,
   "id": "recovered-decrease",
   "metadata": {},
   "outputs": [
    {
     "name": "stdout",
     "output_type": "stream",
     "text": [
      "<tf.Variable 'Variable:0' shape=(10, 4) dtype=float32, numpy=\n",
      "array([[-0.5951423 ,  0.09615402, -1.1203282 ,  1.4481956 ],\n",
      "       [ 0.4650617 ,  1.0933069 ,  0.73156077,  1.0904323 ],\n",
      "       [-0.48840728, -0.46253136, -1.1658224 , -0.00373292],\n",
      "       [-0.8259518 , -0.3463456 , -0.28828007, -0.802865  ],\n",
      "       [-0.64046454, -0.5070912 , -0.776799  ,  0.8348155 ],\n",
      "       [-1.4375911 , -1.2962563 , -0.64998376,  0.7446137 ],\n",
      "       [-0.7730436 , -2.2295609 ,  0.41183648,  0.60042953],\n",
      "       [-0.8451143 ,  1.534661  ,  0.4841911 , -0.9277923 ],\n",
      "       [-0.56530327,  0.6980979 ,  0.6869561 , -1.6992362 ],\n",
      "       [-0.03506297,  0.34868613, -0.09559308, -0.5641218 ]],\n",
      "      dtype=float32)> tf.Tensor(\n",
      "[[0.81042927 0.03190484 0.70764136 0.2740838  0.69167399 0.72324962\n",
      "  0.26500556 0.12518675 0.31444334 0.87249135]], shape=(1, 10), dtype=float64)\n"
     ]
    },
    {
     "data": {
      "text/plain": [
       "<tf.Tensor: id=134, shape=(1, 10), dtype=float64, numpy=\n",
       "array([[0.81042927, 0.03190484, 0.70764136, 0.2740838 , 0.69167399,\n",
       "        0.72324962, 0.26500556, 0.12518675, 0.31444334, 0.87249135]])>"
      ]
     },
     "execution_count": 49,
     "metadata": {},
     "output_type": "execute_result"
    }
   ],
   "source": [
    "# multiplicacionXW = tf.matmul(astensor,w)\n",
    "print(w, astensor)\n",
    "astensor.t"
   ]
  },
  {
   "cell_type": "code",
   "execution_count": null,
   "id": "twelve-payment",
   "metadata": {},
   "outputs": [],
   "source": []
  },
  {
   "cell_type": "code",
   "execution_count": null,
   "id": "intimate-customer",
   "metadata": {},
   "outputs": [],
   "source": []
  }
 ],
 "metadata": {
  "kernelspec": {
   "display_name": "Python 3",
   "language": "python",
   "name": "python3"
  },
  "language_info": {
   "codemirror_mode": {
    "name": "ipython",
    "version": 3
   },
   "file_extension": ".py",
   "mimetype": "text/x-python",
   "name": "python",
   "nbconvert_exporter": "python",
   "pygments_lexer": "ipython3",
   "version": "3.7.10"
  }
 },
 "nbformat": 4,
 "nbformat_minor": 5
}
