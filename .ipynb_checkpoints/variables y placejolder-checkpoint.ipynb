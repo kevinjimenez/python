{
 "cells": [
  {
   "cell_type": "markdown",
   "id": "descending-semester",
   "metadata": {},
   "source": [
    "# Variables y placeholder"
   ]
  },
  {
   "cell_type": "code",
   "execution_count": 1,
   "id": "moved-child",
   "metadata": {},
   "outputs": [],
   "source": [
    "import tensorflow as tf"
   ]
  },
  {
   "cell_type": "code",
   "execution_count": 2,
   "id": "available-wichita",
   "metadata": {},
   "outputs": [],
   "source": [
    "tensor =  tf.random.uniform((5,5),0,1)"
   ]
  },
  {
   "cell_type": "code",
   "execution_count": 3,
   "id": "intensive-colleague",
   "metadata": {},
   "outputs": [],
   "source": [
    "variable = tf.Variable(initial_value = tensor)"
   ]
  },
  {
   "cell_type": "code",
   "execution_count": 4,
   "id": "included-cooler",
   "metadata": {},
   "outputs": [
    {
     "name": "stdout",
     "output_type": "stream",
     "text": [
      "<tf.Variable 'Variable:0' shape=(5, 5) dtype=float32, numpy=\n",
      "array([[0.143489  , 0.64994013, 0.964515  , 0.29525495, 0.02442634],\n",
      "       [0.61332023, 0.98031735, 0.6948893 , 0.94323874, 0.59393346],\n",
      "       [0.2664137 , 0.58450675, 0.81404865, 0.20892727, 0.78765535],\n",
      "       [0.9201354 , 0.19562948, 0.9835894 , 0.5311992 , 0.8409245 ],\n",
      "       [0.52418756, 0.09072042, 0.9686624 , 0.16565919, 0.32161963]],\n",
      "      dtype=float32)>\n"
     ]
    }
   ],
   "source": [
    "print(variable)"
   ]
  },
  {
   "cell_type": "code",
   "execution_count": 6,
   "id": "spiritual-arctic",
   "metadata": {},
   "outputs": [
    {
     "name": "stdout",
     "output_type": "stream",
     "text": [
      "<tf.Variable 'Variable:0' shape=(5, 5) dtype=float32, numpy=\n",
      "array([[0.143489  , 0.64994013, 0.964515  , 0.29525495, 0.02442634],\n",
      "       [0.61332023, 0.98031735, 0.6948893 , 0.94323874, 0.59393346],\n",
      "       [0.2664137 , 0.58450675, 0.81404865, 0.20892727, 0.78765535],\n",
      "       [0.9201354 , 0.19562948, 0.9835894 , 0.5311992 , 0.8409245 ],\n",
      "       [0.52418756, 0.09072042, 0.9686624 , 0.16565919, 0.32161963]],\n",
      "      dtype=float32)>\n",
      "[[0.143489 0.649940133 0.964515 0.295254946 0.0244263411]\n",
      " [0.613320231 0.980317354 0.694889307 0.943238735 0.593933463]\n",
      " [0.266413689 0.58450675 0.814048648 0.208927274 0.787655354]\n",
      " [0.920135379 0.195629478 0.983589411 0.531199217 0.840924501]\n",
      " [0.524187565 0.0907204151 0.968662381 0.165659189 0.32161963]]\n"
     ]
    }
   ],
   "source": [
    "resultado = variable\n",
    "print(resultado)\n",
    "tf.print(resultado)"
   ]
  },
  {
   "cell_type": "code",
   "execution_count": 7,
   "id": "dominant-cache",
   "metadata": {},
   "outputs": [],
   "source": [
    "# placeholder vacion y sirven para alimentar al modeloa"
   ]
  },
  {
   "cell_type": "code",
   "execution_count": 9,
   "id": "broadband-payment",
   "metadata": {},
   "outputs": [],
   "source": [
    "@tf.function\n",
    "def my_function(x):\n",
    "  y = 2 * x\n",
    "  return y"
   ]
  },
  {
   "cell_type": "code",
   "execution_count": 11,
   "id": "material-sequence",
   "metadata": {},
   "outputs": [
    {
     "name": "stdout",
     "output_type": "stream",
     "text": [
      "tf.Tensor(2, shape=(), dtype=int32)\n"
     ]
    }
   ],
   "source": [
    "y_val = my_function(tf.constant(1))\n",
    "print(y_val)"
   ]
  },
  {
   "cell_type": "code",
   "execution_count": 12,
   "id": "victorian-regulation",
   "metadata": {},
   "outputs": [
    {
     "name": "stdout",
     "output_type": "stream",
     "text": [
      "2\n"
     ]
    }
   ],
   "source": [
    "tf.print(y_val)"
   ]
  },
  {
   "cell_type": "code",
   "execution_count": null,
   "id": "small-orleans",
   "metadata": {},
   "outputs": [],
   "source": []
  },
  {
   "cell_type": "code",
   "execution_count": null,
   "id": "plain-kelly",
   "metadata": {},
   "outputs": [],
   "source": []
  },
  {
   "cell_type": "code",
   "execution_count": null,
   "id": "valuable-dallas",
   "metadata": {},
   "outputs": [],
   "source": []
  },
  {
   "cell_type": "code",
   "execution_count": null,
   "id": "metric-service",
   "metadata": {},
   "outputs": [],
   "source": []
  }
 ],
 "metadata": {
  "kernelspec": {
   "display_name": "Python 3",
   "language": "python",
   "name": "python3"
  },
  "language_info": {
   "codemirror_mode": {
    "name": "ipython",
    "version": 3
   },
   "file_extension": ".py",
   "mimetype": "text/x-python",
   "name": "python",
   "nbconvert_exporter": "python",
   "pygments_lexer": "ipython3",
   "version": "3.7.10"
  }
 },
 "nbformat": 4,
 "nbformat_minor": 5
}
