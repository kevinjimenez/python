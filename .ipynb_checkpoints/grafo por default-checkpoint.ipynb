{
 "cells": [
  {
   "cell_type": "markdown",
   "id": "dutch-christianity",
   "metadata": {},
   "source": [
    "# Grafos por defecto en tensorflow"
   ]
  },
  {
   "cell_type": "code",
   "execution_count": 15,
   "id": "conceptual-edinburgh",
   "metadata": {},
   "outputs": [],
   "source": [
    "import tensorflow as tf"
   ]
  },
  {
   "cell_type": "code",
   "execution_count": 16,
   "id": "threatened-daughter",
   "metadata": {},
   "outputs": [
    {
     "name": "stdout",
     "output_type": "stream",
     "text": [
      "<contextlib._GeneratorContextManager object at 0x7faa607f6410>\n"
     ]
    }
   ],
   "source": [
    "print(tf.Graph().as_default())"
   ]
  },
  {
   "cell_type": "code",
   "execution_count": 20,
   "id": "prime-sender",
   "metadata": {},
   "outputs": [
    {
     "name": "stdout",
     "output_type": "stream",
     "text": [
      "<bound method Graph.as_default of <tensorflow.python.framework.ops.Graph object at 0x7faa602af590>>\n"
     ]
    }
   ],
   "source": [
    "grafo1 = tf.Graph().as_default\n",
    "print(grafo1)"
   ]
  },
  {
   "cell_type": "code",
   "execution_count": 23,
   "id": "satellite-luxembourg",
   "metadata": {},
   "outputs": [
    {
     "name": "stdout",
     "output_type": "stream",
     "text": [
      "<bound method Graph.as_default of <tensorflow.python.framework.ops.Graph object at 0x7faa602af590>>\n"
     ]
    }
   ],
   "source": [
    "print(grafo1)"
   ]
  },
  {
   "cell_type": "code",
   "execution_count": 27,
   "id": "moderate-fiction",
   "metadata": {},
   "outputs": [
    {
     "name": "stdout",
     "output_type": "stream",
     "text": [
      "<tensorflow.python.framework.ops.Graph object at 0x7faa602a0190>\n",
      "<tensorflow.python.framework.ops.Graph object at 0x7faa602a0190>\n"
     ]
    }
   ],
   "source": [
    "g = tf.Graph()\n",
    "with g.as_default():\n",
    "  # Define operations and tensors in `g`.\n",
    "  c = tf.constant(30.0)\n",
    "  assert c.graph is g\n",
    "print(g)\n",
    "tf.print(g)"
   ]
  }
 ],
 "metadata": {
  "kernelspec": {
   "display_name": "Python 3",
   "language": "python",
   "name": "python3"
  },
  "language_info": {
   "codemirror_mode": {
    "name": "ipython",
    "version": 3
   },
   "file_extension": ".py",
   "mimetype": "text/x-python",
   "name": "python",
   "nbconvert_exporter": "python",
   "pygments_lexer": "ipython3",
   "version": "3.7.10"
  }
 },
 "nbformat": 4,
 "nbformat_minor": 5
}
