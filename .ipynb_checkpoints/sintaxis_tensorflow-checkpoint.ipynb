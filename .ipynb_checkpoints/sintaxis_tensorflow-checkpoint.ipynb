{
 "cells": [
  {
   "cell_type": "markdown",
   "id": "tested-senegal",
   "metadata": {},
   "source": [
    "## Sintaxis basica tensorflow "
   ]
  },
  {
   "cell_type": "code",
   "execution_count": 2,
   "id": "expired-format",
   "metadata": {},
   "outputs": [],
   "source": [
    "import tensorflow as tf"
   ]
  },
  {
   "cell_type": "code",
   "execution_count": 7,
   "id": "spanish-expansion",
   "metadata": {},
   "outputs": [],
   "source": [
    "mensaje1 = tf.constant('hola ')\n",
    "mensaje2 = tf.constant('mundo')"
   ]
  },
  {
   "cell_type": "code",
   "execution_count": 8,
   "id": "spatial-replication",
   "metadata": {},
   "outputs": [
    {
     "name": "stdout",
     "output_type": "stream",
     "text": [
      "tf.Tensor(b'hola ', shape=(), dtype=string)\n"
     ]
    }
   ],
   "source": [
    "print(mensaje1) ## el print no imprime la informacion ingresada"
   ]
  },
  {
   "cell_type": "code",
   "execution_count": 9,
   "id": "worldwide-bubble",
   "metadata": {},
   "outputs": [
    {
     "data": {
      "text/plain": [
       "tensorflow.python.framework.ops.EagerTensor"
      ]
     },
     "execution_count": 9,
     "metadata": {},
     "output_type": "execute_result"
    }
   ],
   "source": [
    "type(mensaje1)"
   ]
  },
  {
   "cell_type": "code",
   "execution_count": 15,
   "id": "departmental-afternoon",
   "metadata": {},
   "outputs": [
    {
     "name": "stdout",
     "output_type": "stream",
     "text": [
      "hola mundo\n"
     ]
    }
   ],
   "source": [
    "#with tf.compat.v1.Session() as sesion:\n",
    "#    resultado = sesion.run(mensaje1 + mensaje2)\n",
    "## sess = tf.compat.v1.Session()\n",
    "## sess.run(mensaje1)\n",
    "tf.print(mensaje1 + mensaje2)"
   ]
  },
  {
   "cell_type": "code",
   "execution_count": 16,
   "id": "opening-corner",
   "metadata": {},
   "outputs": [
    {
     "name": "stdout",
     "output_type": "stream",
     "text": [
      "tf.Tensor(21, shape=(), dtype=int32)\n"
     ]
    }
   ],
   "source": [
    "a = tf.constant(10)\n",
    "b = tf.constant(11)\n",
    "c = a + b\n",
    "print(c)"
   ]
  },
  {
   "cell_type": "code",
   "execution_count": 17,
   "id": "toxic-spokesman",
   "metadata": {},
   "outputs": [
    {
     "name": "stdout",
     "output_type": "stream",
     "text": [
      "21\n"
     ]
    }
   ],
   "source": [
    "tf.print(c)"
   ]
  },
  {
   "cell_type": "code",
   "execution_count": 18,
   "id": "dimensional-stranger",
   "metadata": {},
   "outputs": [
    {
     "data": {
      "text/plain": [
       "<tf.Tensor: id=11, shape=(), dtype=int32, numpy=15>"
      ]
     },
     "execution_count": 18,
     "metadata": {},
     "output_type": "execute_result"
    }
   ],
   "source": [
    "constante = tf.constant(15)\n",
    "constante"
   ]
  },
  {
   "cell_type": "code",
   "execution_count": 20,
   "id": "destroyed-respect",
   "metadata": {},
   "outputs": [
    {
     "data": {
      "text/plain": [
       "<tf.Tensor: id=14, shape=(6, 6), dtype=int32, numpy=\n",
       "array([[10, 10, 10, 10, 10, 10],\n",
       "       [10, 10, 10, 10, 10, 10],\n",
       "       [10, 10, 10, 10, 10, 10],\n",
       "       [10, 10, 10, 10, 10, 10],\n",
       "       [10, 10, 10, 10, 10, 10],\n",
       "       [10, 10, 10, 10, 10, 10]], dtype=int32)>"
      ]
     },
     "execution_count": 20,
     "metadata": {},
     "output_type": "execute_result"
    }
   ],
   "source": [
    "matriz1 = tf.fill((6,6),10)\n",
    "matriz1"
   ]
  },
  {
   "cell_type": "code",
   "execution_count": 22,
   "id": "focal-paintball",
   "metadata": {},
   "outputs": [
    {
     "data": {
      "text/plain": [
       "<tf.Tensor: id=26, shape=(5, 5), dtype=float32, numpy=\n",
       "array([[-7.46272624e-01,  1.40025699e+00,  2.44447708e+00,\n",
       "         1.59762815e-01, -8.55521619e-01],\n",
       "       [-1.78835049e-01,  9.32500735e-02,  1.84919720e-03,\n",
       "        -5.61867297e-01,  3.37645215e-05],\n",
       "       [-1.98515260e+00,  3.11545879e-01, -1.46494746e+00,\n",
       "         9.72613037e-01,  1.00063694e+00],\n",
       "       [ 2.77381539e-01,  1.54027128e+00,  2.26584077e+00,\n",
       "         6.83454692e-01, -1.00336403e-01],\n",
       "       [-2.96292573e-01, -8.86392873e-03,  1.70872629e-01,\n",
       "         1.09761864e-01,  1.08819139e+00]], dtype=float32)>"
      ]
     },
     "execution_count": 22,
     "metadata": {},
     "output_type": "execute_result"
    }
   ],
   "source": [
    "matriz2 = tf.random.normal((5,5))\n",
    "matriz2"
   ]
  },
  {
   "cell_type": "code",
   "execution_count": 23,
   "id": "boring-building",
   "metadata": {},
   "outputs": [
    {
     "data": {
      "text/plain": [
       "<tf.Tensor: id=33, shape=(4, 4), dtype=float32, numpy=\n",
       "array([[2.188648  , 2.8754659 , 0.07869959, 1.2370664 ],\n",
       "       [4.2912035 , 3.9118695 , 2.7772272 , 4.9978976 ],\n",
       "       [0.05972922, 1.319046  , 1.089018  , 3.438127  ],\n",
       "       [4.025953  , 4.383322  , 2.480907  , 0.9176737 ]], dtype=float32)>"
      ]
     },
     "execution_count": 23,
     "metadata": {},
     "output_type": "execute_result"
    }
   ],
   "source": [
    "matriz3 = tf.random.uniform((4,4),0,5)\n",
    "matriz3"
   ]
  },
  {
   "cell_type": "code",
   "execution_count": 24,
   "id": "quantitative-theme",
   "metadata": {},
   "outputs": [
    {
     "data": {
      "text/plain": [
       "<tf.Tensor: id=36, shape=(2, 2), dtype=float32, numpy=\n",
       "array([[0., 0.],\n",
       "       [0., 0.]], dtype=float32)>"
      ]
     },
     "execution_count": 24,
     "metadata": {},
     "output_type": "execute_result"
    }
   ],
   "source": [
    "matriz_zeros = tf.zeros((2,2))\n",
    "matriz_zeros"
   ]
  },
  {
   "cell_type": "code",
   "execution_count": 25,
   "id": "fifteen-thinking",
   "metadata": {},
   "outputs": [
    {
     "data": {
      "text/plain": [
       "<tf.Tensor: id=39, shape=(3, 3), dtype=float32, numpy=\n",
       "array([[1., 1., 1.],\n",
       "       [1., 1., 1.],\n",
       "       [1., 1., 1.]], dtype=float32)>"
      ]
     },
     "execution_count": 25,
     "metadata": {},
     "output_type": "execute_result"
    }
   ],
   "source": [
    "matriz_ones = tf.ones((3,3))\n",
    "matriz_ones"
   ]
  },
  {
   "cell_type": "code",
   "execution_count": 26,
   "id": "improving-engagement",
   "metadata": {},
   "outputs": [],
   "source": [
    "operaciones = [constante, matriz1, matriz2, matriz3, matriz_zeros, matriz_ones]"
   ]
  },
  {
   "cell_type": "code",
   "execution_count": 27,
   "id": "appointed-impression",
   "metadata": {},
   "outputs": [
    {
     "name": "stdout",
     "output_type": "stream",
     "text": [
      "15\n",
      "\n",
      "\n",
      "[[10 10 10 10 10 10]\n",
      " [10 10 10 10 10 10]\n",
      " [10 10 10 10 10 10]\n",
      " [10 10 10 10 10 10]\n",
      " [10 10 10 10 10 10]\n",
      " [10 10 10 10 10 10]]\n",
      "\n",
      "\n",
      "[[-0.746272624 1.40025699 2.44447708 0.159762815 -0.855521619]\n",
      " [-0.178835049 0.0932500735 0.0018491972 -0.561867297 3.37645215e-05]\n",
      " [-1.9851526 0.311545879 -1.46494746 0.972613037 1.00063694]\n",
      " [0.277381539 1.54027128 2.26584077 0.683454692 -0.100336403]\n",
      " [-0.296292573 -0.00886392873 0.170872629 0.109761864 1.08819139]]\n",
      "\n",
      "\n",
      "[[2.18864799 2.87546587 0.0786995888 1.23706639]\n",
      " [4.2912035 3.91186953 2.77722716 4.99789762]\n",
      " [0.0597292185 1.31904602 1.08901799 3.43812704]\n",
      " [4.02595282 4.38332176 2.48090696 0.917673707]]\n",
      "\n",
      "\n",
      "[[0 0]\n",
      " [0 0]]\n",
      "\n",
      "\n",
      "[[1 1 1]\n",
      " [1 1 1]\n",
      " [1 1 1]]\n",
      "\n",
      "\n"
     ]
    }
   ],
   "source": [
    "for operacion in operaciones:\n",
    "    tf.print(operacion)\n",
    "    print('\\n')"
   ]
  },
  {
   "cell_type": "code",
   "execution_count": null,
   "id": "indirect-patrol",
   "metadata": {},
   "outputs": [],
   "source": []
  }
 ],
 "metadata": {
  "kernelspec": {
   "display_name": "Python 3",
   "language": "python",
   "name": "python3"
  },
  "language_info": {
   "codemirror_mode": {
    "name": "ipython",
    "version": 3
   },
   "file_extension": ".py",
   "mimetype": "text/x-python",
   "name": "python",
   "nbconvert_exporter": "python",
   "pygments_lexer": "ipython3",
   "version": "3.7.10"
  }
 },
 "nbformat": 4,
 "nbformat_minor": 5
}
