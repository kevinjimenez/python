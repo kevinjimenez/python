{
 "cells": [
  {
   "cell_type": "markdown",
   "id": "brazilian-equivalent",
   "metadata": {},
   "source": [
    "# Scikit Learn\n",
    "\n",
    "#### Dividir conjunto datos disponibles, en datos para pruebas y en datos de test"
   ]
  },
  {
   "cell_type": "code",
   "execution_count": 1,
   "id": "traditional-sunset",
   "metadata": {},
   "outputs": [],
   "source": [
    "import pandas as pd\n",
    "import numpy as np\n",
    "from sklearn.model_selection import train_test_split"
   ]
  },
  {
   "cell_type": "code",
   "execution_count": 2,
   "id": "defined-vision",
   "metadata": {},
   "outputs": [
    {
     "data": {
      "text/plain": [
       "array([[67,  6, 12, 19],\n",
       "       [97, 38, 98, 46],\n",
       "       [92, 48, 29, 96],\n",
       "       [67, 76, 84,  6],\n",
       "       [72, 83, 53, 34],\n",
       "       [84,  1,  6, 59],\n",
       "       [29, 72, 18, 80],\n",
       "       [ 4, 45, 97, 61],\n",
       "       [66, 89, 40, 24],\n",
       "       [83, 76, 60, 50],\n",
       "       [71, 99, 46, 13],\n",
       "       [26, 32, 16, 47],\n",
       "       [71, 52,  2, 29],\n",
       "       [25, 21, 83, 37],\n",
       "       [69, 55, 61, 49],\n",
       "       [35, 29, 62, 80],\n",
       "       [41, 55, 35, 55],\n",
       "       [79, 52, 25, 41],\n",
       "       [46, 66,  2, 42],\n",
       "       [78, 46, 18, 29],\n",
       "       [ 4,  8, 57, 23],\n",
       "       [97, 74, 56, 85],\n",
       "       [ 6, 71, 64, 31],\n",
       "       [37, 70, 60, 19],\n",
       "       [74,  1, 50, 39],\n",
       "       [ 3, 85,  3, 19],\n",
       "       [16, 93, 75, 65],\n",
       "       [ 4, 66, 33, 86],\n",
       "       [34, 38, 77, 45],\n",
       "       [91, 53, 89, 90],\n",
       "       [12, 48, 37, 37],\n",
       "       [19, 54, 86, 78],\n",
       "       [24, 31, 91, 53],\n",
       "       [27, 56, 73, 46],\n",
       "       [79, 15,  6, 18],\n",
       "       [38, 34, 84, 10],\n",
       "       [87, 90,  1, 88],\n",
       "       [38, 82, 11, 45],\n",
       "       [99,  5, 34, 97],\n",
       "       [82, 81, 26, 72],\n",
       "       [78, 70, 37, 59],\n",
       "       [11, 91, 48, 20],\n",
       "       [ 8, 77, 68, 54],\n",
       "       [71, 83, 39, 68],\n",
       "       [23, 95, 30, 42],\n",
       "       [69, 37, 61, 73],\n",
       "       [35, 73,  1, 12],\n",
       "       [86, 87, 20, 68],\n",
       "       [67, 79, 39, 33],\n",
       "       [12, 12, 81, 63],\n",
       "       [ 9, 63, 84, 79],\n",
       "       [53, 45, 78, 65],\n",
       "       [21,  2,  5, 31],\n",
       "       [86, 68, 63,  1],\n",
       "       [97, 35, 54, 89],\n",
       "       [88, 91, 93, 82],\n",
       "       [16, 71,  1, 83],\n",
       "       [83, 86, 21, 96],\n",
       "       [37, 66, 11, 42],\n",
       "       [72, 82, 18, 46],\n",
       "       [73, 76, 37, 53],\n",
       "       [11, 85, 76, 46],\n",
       "       [27, 29, 82, 62],\n",
       "       [97, 22, 68, 75],\n",
       "       [64, 51, 43, 61],\n",
       "       [20, 25, 26, 48],\n",
       "       [27, 54,  7, 40],\n",
       "       [94, 73, 69, 16],\n",
       "       [57, 65, 83, 45],\n",
       "       [62, 31, 94, 62],\n",
       "       [20, 22,  2, 24],\n",
       "       [97, 33, 97, 57],\n",
       "       [40, 91, 28, 24],\n",
       "       [77, 87, 51, 74],\n",
       "       [96, 25, 53, 88],\n",
       "       [88, 64, 75, 52],\n",
       "       [77, 18, 83, 25],\n",
       "       [30, 57, 31,  0],\n",
       "       [83, 32, 57, 93],\n",
       "       [55,  1, 49, 19],\n",
       "       [91, 85, 52, 89],\n",
       "       [25, 43,  9, 27],\n",
       "       [37, 37, 16, 72],\n",
       "       [28, 17, 17, 92],\n",
       "       [54, 29, 92, 72],\n",
       "       [55, 96, 18, 87],\n",
       "       [36, 13, 68, 79],\n",
       "       [99, 70, 92, 86],\n",
       "       [83, 66, 57, 93],\n",
       "       [25, 77, 62, 47],\n",
       "       [14, 41, 97, 81],\n",
       "       [85, 90, 71, 58],\n",
       "       [84,  3, 82, 78],\n",
       "       [68, 79, 35, 37],\n",
       "       [44, 74, 69, 37],\n",
       "       [79, 46, 41, 56],\n",
       "       [98, 71, 58, 15],\n",
       "       [51, 98, 23, 82],\n",
       "       [38, 10, 79, 56],\n",
       "       [ 1, 59, 37,  9]])"
      ]
     },
     "execution_count": 2,
     "metadata": {},
     "output_type": "execute_result"
    }
   ],
   "source": [
    "datos = np.random.randint(0,100,(100,4)) ## el tercer parametro es para reformar el array de datos (filas, columnas)\n",
    "datos"
   ]
  },
  {
   "cell_type": "code",
   "execution_count": 8,
   "id": "multiple-craft",
   "metadata": {},
   "outputs": [
    {
     "data": {
      "text/html": [
       "<div>\n",
       "<style scoped>\n",
       "    .dataframe tbody tr th:only-of-type {\n",
       "        vertical-align: middle;\n",
       "    }\n",
       "\n",
       "    .dataframe tbody tr th {\n",
       "        vertical-align: top;\n",
       "    }\n",
       "\n",
       "    .dataframe thead th {\n",
       "        text-align: right;\n",
       "    }\n",
       "</style>\n",
       "<table border=\"1\" class=\"dataframe\">\n",
       "  <thead>\n",
       "    <tr style=\"text-align: right;\">\n",
       "      <th></th>\n",
       "      <th>c1</th>\n",
       "      <th>c2</th>\n",
       "      <th>c3</th>\n",
       "    </tr>\n",
       "  </thead>\n",
       "  <tbody>\n",
       "    <tr>\n",
       "      <th>0</th>\n",
       "      <td>67</td>\n",
       "      <td>6</td>\n",
       "      <td>12</td>\n",
       "    </tr>\n",
       "    <tr>\n",
       "      <th>1</th>\n",
       "      <td>97</td>\n",
       "      <td>38</td>\n",
       "      <td>98</td>\n",
       "    </tr>\n",
       "    <tr>\n",
       "      <th>2</th>\n",
       "      <td>92</td>\n",
       "      <td>48</td>\n",
       "      <td>29</td>\n",
       "    </tr>\n",
       "    <tr>\n",
       "      <th>3</th>\n",
       "      <td>67</td>\n",
       "      <td>76</td>\n",
       "      <td>84</td>\n",
       "    </tr>\n",
       "    <tr>\n",
       "      <th>4</th>\n",
       "      <td>72</td>\n",
       "      <td>83</td>\n",
       "      <td>53</td>\n",
       "    </tr>\n",
       "    <tr>\n",
       "      <th>...</th>\n",
       "      <td>...</td>\n",
       "      <td>...</td>\n",
       "      <td>...</td>\n",
       "    </tr>\n",
       "    <tr>\n",
       "      <th>95</th>\n",
       "      <td>79</td>\n",
       "      <td>46</td>\n",
       "      <td>41</td>\n",
       "    </tr>\n",
       "    <tr>\n",
       "      <th>96</th>\n",
       "      <td>98</td>\n",
       "      <td>71</td>\n",
       "      <td>58</td>\n",
       "    </tr>\n",
       "    <tr>\n",
       "      <th>97</th>\n",
       "      <td>51</td>\n",
       "      <td>98</td>\n",
       "      <td>23</td>\n",
       "    </tr>\n",
       "    <tr>\n",
       "      <th>98</th>\n",
       "      <td>38</td>\n",
       "      <td>10</td>\n",
       "      <td>79</td>\n",
       "    </tr>\n",
       "    <tr>\n",
       "      <th>99</th>\n",
       "      <td>1</td>\n",
       "      <td>59</td>\n",
       "      <td>37</td>\n",
       "    </tr>\n",
       "  </tbody>\n",
       "</table>\n",
       "<p>100 rows × 3 columns</p>\n",
       "</div>"
      ],
      "text/plain": [
       "    c1  c2  c3\n",
       "0   67   6  12\n",
       "1   97  38  98\n",
       "2   92  48  29\n",
       "3   67  76  84\n",
       "4   72  83  53\n",
       "..  ..  ..  ..\n",
       "95  79  46  41\n",
       "96  98  71  58\n",
       "97  51  98  23\n",
       "98  38  10  79\n",
       "99   1  59  37\n",
       "\n",
       "[100 rows x 3 columns]"
      ]
     },
     "execution_count": 8,
     "metadata": {},
     "output_type": "execute_result"
    }
   ],
   "source": [
    "X = dataframe[['c1','c2','c3']]\n",
    "X"
   ]
  },
  {
   "cell_type": "code",
   "execution_count": 9,
   "id": "pleasant-beijing",
   "metadata": {},
   "outputs": [
    {
     "data": {
      "text/plain": [
       "0     19\n",
       "1     46\n",
       "2     96\n",
       "3      6\n",
       "4     34\n",
       "      ..\n",
       "95    56\n",
       "96    15\n",
       "97    82\n",
       "98    56\n",
       "99     9\n",
       "Name: etiquetas, Length: 100, dtype: int64"
      ]
     },
     "execution_count": 9,
     "metadata": {},
     "output_type": "execute_result"
    }
   ],
   "source": [
    "y = dataframe['etiquetas']\n",
    "y"
   ]
  },
  {
   "cell_type": "code",
   "execution_count": 10,
   "id": "cognitive-doctrine",
   "metadata": {},
   "outputs": [],
   "source": [
    "X_train, X_test, y_train, y_test = train_test_split(X,y, test_size=0.3)"
   ]
  },
  {
   "cell_type": "code",
   "execution_count": 11,
   "id": "architectural-habitat",
   "metadata": {},
   "outputs": [
    {
     "data": {
      "text/plain": [
       "(30, 3)"
      ]
     },
     "execution_count": 11,
     "metadata": {},
     "output_type": "execute_result"
    }
   ],
   "source": [
    "X_test.shape ## la palabra shape indica como esta estructurado los datos"
   ]
  },
  {
   "cell_type": "code",
   "execution_count": 12,
   "id": "incorporated-causing",
   "metadata": {},
   "outputs": [
    {
     "data": {
      "text/plain": [
       "(70, 3)"
      ]
     },
     "execution_count": 12,
     "metadata": {},
     "output_type": "execute_result"
    }
   ],
   "source": [
    "X_train.shape"
   ]
  },
  {
   "cell_type": "code",
   "execution_count": 13,
   "id": "express-mongolia",
   "metadata": {},
   "outputs": [
    {
     "data": {
      "text/plain": [
       "(70,)"
      ]
     },
     "execution_count": 13,
     "metadata": {},
     "output_type": "execute_result"
    }
   ],
   "source": [
    "y_train.shape"
   ]
  },
  {
   "cell_type": "code",
   "execution_count": 14,
   "id": "satellite-perfume",
   "metadata": {},
   "outputs": [
    {
     "data": {
      "text/plain": [
       "(30,)"
      ]
     },
     "execution_count": 14,
     "metadata": {},
     "output_type": "execute_result"
    }
   ],
   "source": [
    "y_test.shape"
   ]
  },
  {
   "cell_type": "code",
   "execution_count": null,
   "id": "mature-suggestion",
   "metadata": {},
   "outputs": [],
   "source": [
    "### se dividio los valore de entrenamiento y test en los sets de datos"
   ]
  }
 ],
 "metadata": {
  "kernelspec": {
   "display_name": "Python 3",
   "language": "python",
   "name": "python3"
  },
  "language_info": {
   "codemirror_mode": {
    "name": "ipython",
    "version": 3
   },
   "file_extension": ".py",
   "mimetype": "text/x-python",
   "name": "python",
   "nbconvert_exporter": "python",
   "pygments_lexer": "ipython3",
   "version": "3.7.10"
  }
 },
 "nbformat": 4,
 "nbformat_minor": 5
}
