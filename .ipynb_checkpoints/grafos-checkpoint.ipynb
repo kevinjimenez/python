{
 "cells": [
  {
   "cell_type": "markdown",
   "id": "another-burke",
   "metadata": {},
   "source": [
    "# Grafos en tensorflow"
   ]
  },
  {
   "cell_type": "code",
   "execution_count": 5,
   "id": "spread-surfing",
   "metadata": {},
   "outputs": [],
   "source": [
    "import tensorflow as tf"
   ]
  },
  {
   "cell_type": "code",
   "execution_count": 6,
   "id": "convertible-highlight",
   "metadata": {},
   "outputs": [],
   "source": [
    "nodo1 = tf.constant(4)\n",
    "nodo2 = tf.constant(6)"
   ]
  },
  {
   "cell_type": "code",
   "execution_count": 8,
   "id": "collectible-valuable",
   "metadata": {},
   "outputs": [
    {
     "name": "stdout",
     "output_type": "stream",
     "text": [
      "tf.Tensor(10, shape=(), dtype=int32)\n"
     ]
    }
   ],
   "source": [
    "nodo3 = nodo1 + nodo2\n",
    "print(nodo3)"
   ]
  },
  {
   "cell_type": "code",
   "execution_count": 9,
   "id": "victorian-setting",
   "metadata": {},
   "outputs": [
    {
     "name": "stdout",
     "output_type": "stream",
     "text": [
      "10\n"
     ]
    }
   ],
   "source": [
    "tf.print(nodo3)"
   ]
  },
  {
   "cell_type": "code",
   "execution_count": null,
   "id": "cathedral-anthropology",
   "metadata": {},
   "outputs": [],
   "source": []
  }
 ],
 "metadata": {
  "kernelspec": {
   "display_name": "Python 3",
   "language": "python",
   "name": "python3"
  },
  "language_info": {
   "codemirror_mode": {
    "name": "ipython",
    "version": 3
   },
   "file_extension": ".py",
   "mimetype": "text/x-python",
   "name": "python",
   "nbconvert_exporter": "python",
   "pygments_lexer": "ipython3",
   "version": "3.7.10"
  }
 },
 "nbformat": 4,
 "nbformat_minor": 5
}
